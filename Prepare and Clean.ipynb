{
 "cells": [
  {
   "cell_type": "code",
   "execution_count": 84,
   "id": "835509f9-8060-423e-a4ec-4a77a6d4aa01",
   "metadata": {},
   "outputs": [],
   "source": [
    "import pandas as pd\n",
    "import numpy as np\n",
    "import panel as pn\n",
    "from matplotlib import pyplot as plt\n",
    "\n",
    "import hvplot.pandas"
   ]
  },
  {
   "cell_type": "code",
   "execution_count": 76,
   "id": "d6608674-c869-4094-a4df-827ec1112588",
   "metadata": {},
   "outputs": [
    {
     "name": "stdout",
     "output_type": "stream",
     "text": [
      "Requirement already satisfied: matplotlib in ./lib/python3.9/site-packages (3.5.2)\n",
      "Requirement already satisfied: packaging>=20.0 in ./lib/python3.9/site-packages (from matplotlib) (21.3)\n",
      "Requirement already satisfied: fonttools>=4.22.0 in ./lib/python3.9/site-packages (from matplotlib) (4.34.4)\n",
      "Requirement already satisfied: numpy>=1.17 in ./lib/python3.9/site-packages (from matplotlib) (1.23.1)\n",
      "Requirement already satisfied: kiwisolver>=1.0.1 in ./lib/python3.9/site-packages (from matplotlib) (1.4.4)\n",
      "Requirement already satisfied: python-dateutil>=2.7 in ./lib/python3.9/site-packages (from matplotlib) (2.8.2)\n",
      "Requirement already satisfied: cycler>=0.10 in ./lib/python3.9/site-packages (from matplotlib) (0.11.0)\n",
      "Requirement already satisfied: pyparsing>=2.2.1 in ./lib/python3.9/site-packages (from matplotlib) (3.0.9)\n",
      "Requirement already satisfied: pillow>=6.2.0 in ./lib/python3.9/site-packages (from matplotlib) (9.2.0)\n",
      "Requirement already satisfied: six>=1.5 in ./lib/python3.9/site-packages (from python-dateutil>=2.7->matplotlib) (1.16.0)\n",
      "\u001b[33mWARNING: You are using pip version 22.0.4; however, version 22.1.2 is available.\n",
      "You should consider upgrading via the '/Users/paulastokowska/Projekty/VisualizationWithPanel/bin/python3 -m pip install --upgrade pip' command.\u001b[0m\u001b[33m\n",
      "\u001b[0m"
     ]
    }
   ],
   "source": [
    "!pip install matplotlib"
   ]
  },
  {
   "cell_type": "code",
   "execution_count": 85,
   "id": "a2d81d9e-af08-48b1-816c-6bf8278c787e",
   "metadata": {},
   "outputs": [],
   "source": [
    "df_m = pd.read_csv('Man names in Poland.csv')\n",
    "df_w = pd.read_csv('Woman names in Poland.csv')\n",
    "df_b = pd.read_csv('Newborn Boys Names in 2022.csv')\n",
    "df_g = pd.read_csv('Newborn Girls Names in 2022.csv')"
   ]
  },
  {
   "cell_type": "code",
   "execution_count": 86,
   "id": "08f9d3c1-6692-4f96-8bde-d6bde18abba0",
   "metadata": {},
   "outputs": [],
   "source": [
    "df_m = df_m.drop('PŁEĆ', axis=1)\n",
    "df_m.columns = ['Name', 'Quantity [mln]']\n",
    "df_m['Quantity [mln]'] = df_m['Quantity [mln]']/1000000\n",
    "\n",
    "df_w = df_w.drop('PŁEĆ', axis=1)\n",
    "df_w.columns = ['Name', 'Quantity [mln]']\n",
    "df_w['Quantity [mln]'] = df_w['Quantity [mln]']/1000000\n",
    "\n",
    "df_b = df_b.drop('PŁEĆ', axis=1)\n",
    "df_b.columns = ['Name', 'Quantity']\n",
    "\n",
    "df_g = df_g.drop('PŁEĆ', axis=1)\n",
    "df_g.columns = ['Name', 'Quantity']"
   ]
  },
  {
   "cell_type": "code",
   "execution_count": 87,
   "id": "fe83e48b-1349-45f1-b565-3d8489a92a69",
   "metadata": {},
   "outputs": [
    {
     "data": {
      "text/html": [
       "<div>\n",
       "<style scoped>\n",
       "    .dataframe tbody tr th:only-of-type {\n",
       "        vertical-align: middle;\n",
       "    }\n",
       "\n",
       "    .dataframe tbody tr th {\n",
       "        vertical-align: top;\n",
       "    }\n",
       "\n",
       "    .dataframe thead th {\n",
       "        text-align: right;\n",
       "    }\n",
       "</style>\n",
       "<table border=\"1\" class=\"dataframe\">\n",
       "  <thead>\n",
       "    <tr style=\"text-align: right;\">\n",
       "      <th></th>\n",
       "      <th>Name</th>\n",
       "      <th>Quantity [mln]</th>\n",
       "    </tr>\n",
       "  </thead>\n",
       "  <tbody>\n",
       "    <tr>\n",
       "      <th>0</th>\n",
       "      <td>JAN</td>\n",
       "      <td>1.082446</td>\n",
       "    </tr>\n",
       "    <tr>\n",
       "      <th>1</th>\n",
       "      <td>STANISŁAW</td>\n",
       "      <td>0.945137</td>\n",
       "    </tr>\n",
       "    <tr>\n",
       "      <th>2</th>\n",
       "      <td>PIOTR</td>\n",
       "      <td>0.812943</td>\n",
       "    </tr>\n",
       "    <tr>\n",
       "      <th>3</th>\n",
       "      <td>ANDRZEJ</td>\n",
       "      <td>0.743793</td>\n",
       "    </tr>\n",
       "    <tr>\n",
       "      <th>4</th>\n",
       "      <td>KRZYSZTOF</td>\n",
       "      <td>0.734315</td>\n",
       "    </tr>\n",
       "    <tr>\n",
       "      <th>...</th>\n",
       "      <td>...</td>\n",
       "      <td>...</td>\n",
       "    </tr>\n",
       "    <tr>\n",
       "      <th>29044</th>\n",
       "      <td>KESRA</td>\n",
       "      <td>0.000002</td>\n",
       "    </tr>\n",
       "    <tr>\n",
       "      <th>29045</th>\n",
       "      <td>BONGJUN</td>\n",
       "      <td>0.000002</td>\n",
       "    </tr>\n",
       "    <tr>\n",
       "      <th>29046</th>\n",
       "      <td>BAHAR</td>\n",
       "      <td>0.000002</td>\n",
       "    </tr>\n",
       "    <tr>\n",
       "      <th>29047</th>\n",
       "      <td>KADIRJON</td>\n",
       "      <td>0.000002</td>\n",
       "    </tr>\n",
       "    <tr>\n",
       "      <th>29048</th>\n",
       "      <td>RENNE</td>\n",
       "      <td>0.000002</td>\n",
       "    </tr>\n",
       "  </tbody>\n",
       "</table>\n",
       "<p>29049 rows × 2 columns</p>\n",
       "</div>"
      ],
      "text/plain": [
       "            Name  Quantity [mln]\n",
       "0            JAN        1.082446\n",
       "1      STANISŁAW        0.945137\n",
       "2          PIOTR        0.812943\n",
       "3        ANDRZEJ        0.743793\n",
       "4      KRZYSZTOF        0.734315\n",
       "...          ...             ...\n",
       "29044      KESRA        0.000002\n",
       "29045    BONGJUN        0.000002\n",
       "29046      BAHAR        0.000002\n",
       "29047   KADIRJON        0.000002\n",
       "29048      RENNE        0.000002\n",
       "\n",
       "[29049 rows x 2 columns]"
      ]
     },
     "execution_count": 87,
     "metadata": {},
     "output_type": "execute_result"
    }
   ],
   "source": [
    "df_m"
   ]
  },
  {
   "cell_type": "code",
   "execution_count": 88,
   "id": "b5fdac73-8cf8-4e53-b97b-8aab8dd18b08",
   "metadata": {},
   "outputs": [
    {
     "data": {
      "text/plain": [
       "<AxesSubplot:title={'center':'Most popular men names in Poland'}, ylabel='Name'>"
      ]
     },
     "execution_count": 88,
     "metadata": {},
     "output_type": "execute_result"
    },
    {
     "data": {
      "image/png": "[encoded data removed]",
      "text/plain": [
       "<Figure size 432x288 with 1 Axes>"
      ]
     },
     "metadata": {
      "needs_background": "light"
     },
     "output_type": "display_data"
    }
   ],
   "source": [
    "df_m.head(10).plot.barh(x='Name', y='Quantity [mln]', title='Most popular men names in Poland')"
   ]
  },
  {
   "cell_type": "code",
   "execution_count": 89,
   "id": "338a600e-7214-4e8f-bd90-ebaddf4c3dbe",
   "metadata": {},
   "outputs": [
    {
     "data": {
      "text/plain": [
       "<AxesSubplot:title={'center':'Most popular women names in Poland'}, ylabel='Name'>"
      ]
     },
     "execution_count": 89,
     "metadata": {},
     "output_type": "execute_result"
    },
    {
     "data": {
      "image/png": "[encoded data removed]",
      "text/plain": [
       "<Figure size 432x288 with 1 Axes>"
      ]
     },
     "metadata": {
      "needs_background": "light"
     },
     "output_type": "display_data"
    }
   ],
   "source": [
    "df_w.head(10).plot.barh(x='Name', y='Quantity [mln]', title='Most popular women names in Poland')"
   ]
  },
  {
   "cell_type": "code",
   "execution_count": 72,
   "id": "64bd2d78-db1b-42cb-9bbd-238fdff1966c",
   "metadata": {},
   "outputs": [
    {
     "data": {
      "text/plain": [
       "<AxesSubplot:title={'center':'Most popular name for newborn girls in Poland in 2022'}, ylabel='Name'>"
      ]
     },
     "execution_count": 72,
     "metadata": {},
     "output_type": "execute_result"
    },
    {
     "data": {
      "image/png": "[encoded data removed]",
      "text/plain": [
       "<Figure size 432x288 with 1 Axes>"
      ]
     },
     "metadata": {
      "needs_background": "light"
     },
     "output_type": "display_data"
    }
   ],
   "source": [
    "df_g.head(10).plot.barh(x='Name', y='Quantity', title='Most popular name for newborn girls in Poland in 2022')"
   ]
  },
  {
   "cell_type": "code",
   "execution_count": 71,
   "id": "abede90f-9863-4b51-8f21-aa63231e0df2",
   "metadata": {},
   "outputs": [
    {
     "data": {
      "text/plain": [
       "<AxesSubplot:title={'center':'Most popular name for newborn boys in Poland in 2022'}, ylabel='Name'>"
      ]
     },
     "execution_count": 71,
     "metadata": {},
     "output_type": "execute_result"
    },
    {
     "data": {
      "image/png": "[encoded data removed]",
      "text/plain": [
       "<Figure size 432x288 with 1 Axes>"
      ]
     },
     "metadata": {
      "needs_background": "light"
     },
     "output_type": "display_data"
    }
   ],
   "source": [
    "df_b.head(10).plot.barh(x='Name', y='Quantity', title='Most popular name for newborn boys in Poland in 2022')"
   ]
  },
  {
   "cell_type": "code",
   "execution_count": null,
   "id": "2d638924-2cd8-436d-9a13-c029c7c72ba7",
   "metadata": {},
   "outputs": [],
   "source": []
  }
 ],
 "metadata": {
  "kernelspec": {
   "display_name": "Python 3 (ipykernel)",
   "language": "python",
   "name": "python3"
  },
  "language_info": {
   "codemirror_mode": {
    "name": "ipython",
    "version": 3
   },
   "file_extension": ".py",
   "mimetype": "text/x-python",
   "name": "python",
   "nbconvert_exporter": "python",
   "pygments_lexer": "ipython3",
   "version": "3.9.12"
  }
 },
 "nbformat": 4,
 "nbformat_minor": 5
}
